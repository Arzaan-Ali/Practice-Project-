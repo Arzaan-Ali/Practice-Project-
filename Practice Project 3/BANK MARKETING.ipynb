{
 "cells": [
  {
   "cell_type": "code",
   "execution_count": 1,
   "id": "e8fc0e9f",
   "metadata": {},
   "outputs": [
    {
     "name": "stdout",
     "output_type": "stream",
     "text": [
      "Fitting 5 folds for each of 12 candidates, totalling 60 fits\n",
      "Best parameters: {'max_depth': None, 'n_estimators': 300}\n",
      "Accuracy: 0.9045813586097946\n",
      "Confusion matrix:\n",
      " [[5432  167]\n",
      " [ 437  294]]\n"
     ]
    }
   ],
   "source": [
    "import pandas as pd\n",
    "import numpy as np\n",
    "from sklearn.preprocessing import LabelEncoder, StandardScaler\n",
    "from sklearn.model_selection import train_test_split, GridSearchCV\n",
    "from sklearn.ensemble import RandomForestClassifier\n",
    "from sklearn.metrics import accuracy_score, confusion_matrix\n",
    "\n"
   ]
  },
  {
   "cell_type": "code",
   "execution_count": 2,
   "id": "5e3cbd90",
   "metadata": {},
   "outputs": [],
   "source": [
    "# Load the data\n",
    "train_data = pd.read_csv('https://raw.githubusercontent.com/dsrscientist/dataset5/main/termdeposit_train.csv')\n",
    "test_data = pd.read_csv('https://raw.githubusercontent.com/dsrscientist/dataset5/main/termdeposit_test.csv')\n"
   ]
  },
  {
   "cell_type": "code",
   "execution_count": 3,
   "id": "fdfdf196",
   "metadata": {},
   "outputs": [],
   "source": [
    "# Preprocessing\n",
    "train_data.drop(['ID'], axis=1, inplace=True) # Remove ID column\n",
    "train_data['subscribed'] = train_data['subscribed'].map({'yes': 1, 'no': 0}) # Convert target variable to binary"
   ]
  },
  {
   "cell_type": "code",
   "execution_count": 4,
   "id": "0b84b0cd",
   "metadata": {},
   "outputs": [],
   "source": [
    "X = train_data.drop(['subscribed'], axis=1) # Features\n",
    "y = train_data['subscribed'] # Target variable"
   ]
  },
  {
   "cell_type": "code",
   "execution_count": 5,
   "id": "95585957",
   "metadata": {},
   "outputs": [],
   "source": [
    "X = pd.get_dummies(X, drop_first=True) # One-hot encoding for categorical features\n",
    "scaler = StandardScaler() # Standardize numerical features"
   ]
  },
  {
   "cell_type": "code",
   "execution_count": 6,
   "id": "cef4f76a",
   "metadata": {},
   "outputs": [],
   "source": [
    "num_cols = ['age', 'duration', 'campaign', 'pdays', 'previous']\n",
    "X[num_cols] = scaler.fit_transform(X[num_cols])\n"
   ]
  },
  {
   "cell_type": "code",
   "execution_count": 7,
   "id": "d1296541",
   "metadata": {},
   "outputs": [],
   "source": [
    "# Train/test split\n",
    "X_train, X_test, y_train, y_test = train_test_split(X, y, test_size=0.2, random_state=42)\n"
   ]
  },
  {
   "cell_type": "code",
   "execution_count": 8,
   "id": "7ce3e4be",
   "metadata": {},
   "outputs": [],
   "source": [
    "# Train the model\n",
    "rf = RandomForestClassifier(random_state=42)\n",
    "params = {'n_estimators': [100, 200, 300], 'max_depth': [5, 10, 20, None]}"
   ]
  },
  {
   "cell_type": "code",
   "execution_count": 9,
   "id": "cab64d76",
   "metadata": {},
   "outputs": [
    {
     "name": "stdout",
     "output_type": "stream",
     "text": [
      "Fitting 5 folds for each of 12 candidates, totalling 60 fits\n"
     ]
    },
    {
     "data": {
      "text/html": [
       "<style>#sk-container-id-1 {color: black;background-color: white;}#sk-container-id-1 pre{padding: 0;}#sk-container-id-1 div.sk-toggleable {background-color: white;}#sk-container-id-1 label.sk-toggleable__label {cursor: pointer;display: block;width: 100%;margin-bottom: 0;padding: 0.3em;box-sizing: border-box;text-align: center;}#sk-container-id-1 label.sk-toggleable__label-arrow:before {content: \"▸\";float: left;margin-right: 0.25em;color: #696969;}#sk-container-id-1 label.sk-toggleable__label-arrow:hover:before {color: black;}#sk-container-id-1 div.sk-estimator:hover label.sk-toggleable__label-arrow:before {color: black;}#sk-container-id-1 div.sk-toggleable__content {max-height: 0;max-width: 0;overflow: hidden;text-align: left;background-color: #f0f8ff;}#sk-container-id-1 div.sk-toggleable__content pre {margin: 0.2em;color: black;border-radius: 0.25em;background-color: #f0f8ff;}#sk-container-id-1 input.sk-toggleable__control:checked~div.sk-toggleable__content {max-height: 200px;max-width: 100%;overflow: auto;}#sk-container-id-1 input.sk-toggleable__control:checked~label.sk-toggleable__label-arrow:before {content: \"▾\";}#sk-container-id-1 div.sk-estimator input.sk-toggleable__control:checked~label.sk-toggleable__label {background-color: #d4ebff;}#sk-container-id-1 div.sk-label input.sk-toggleable__control:checked~label.sk-toggleable__label {background-color: #d4ebff;}#sk-container-id-1 input.sk-hidden--visually {border: 0;clip: rect(1px 1px 1px 1px);clip: rect(1px, 1px, 1px, 1px);height: 1px;margin: -1px;overflow: hidden;padding: 0;position: absolute;width: 1px;}#sk-container-id-1 div.sk-estimator {font-family: monospace;background-color: #f0f8ff;border: 1px dotted black;border-radius: 0.25em;box-sizing: border-box;margin-bottom: 0.5em;}#sk-container-id-1 div.sk-estimator:hover {background-color: #d4ebff;}#sk-container-id-1 div.sk-parallel-item::after {content: \"\";width: 100%;border-bottom: 1px solid gray;flex-grow: 1;}#sk-container-id-1 div.sk-label:hover label.sk-toggleable__label {background-color: #d4ebff;}#sk-container-id-1 div.sk-serial::before {content: \"\";position: absolute;border-left: 1px solid gray;box-sizing: border-box;top: 0;bottom: 0;left: 50%;z-index: 0;}#sk-container-id-1 div.sk-serial {display: flex;flex-direction: column;align-items: center;background-color: white;padding-right: 0.2em;padding-left: 0.2em;position: relative;}#sk-container-id-1 div.sk-item {position: relative;z-index: 1;}#sk-container-id-1 div.sk-parallel {display: flex;align-items: stretch;justify-content: center;background-color: white;position: relative;}#sk-container-id-1 div.sk-item::before, #sk-container-id-1 div.sk-parallel-item::before {content: \"\";position: absolute;border-left: 1px solid gray;box-sizing: border-box;top: 0;bottom: 0;left: 50%;z-index: -1;}#sk-container-id-1 div.sk-parallel-item {display: flex;flex-direction: column;z-index: 1;position: relative;background-color: white;}#sk-container-id-1 div.sk-parallel-item:first-child::after {align-self: flex-end;width: 50%;}#sk-container-id-1 div.sk-parallel-item:last-child::after {align-self: flex-start;width: 50%;}#sk-container-id-1 div.sk-parallel-item:only-child::after {width: 0;}#sk-container-id-1 div.sk-dashed-wrapped {border: 1px dashed gray;margin: 0 0.4em 0.5em 0.4em;box-sizing: border-box;padding-bottom: 0.4em;background-color: white;}#sk-container-id-1 div.sk-label label {font-family: monospace;font-weight: bold;display: inline-block;line-height: 1.2em;}#sk-container-id-1 div.sk-label-container {text-align: center;}#sk-container-id-1 div.sk-container {/* jupyter's `normalize.less` sets `[hidden] { display: none; }` but bootstrap.min.css set `[hidden] { display: none !important; }` so we also need the `!important` here to be able to override the default hidden behavior on the sphinx rendered scikit-learn.org. See: https://github.com/scikit-learn/scikit-learn/issues/21755 */display: inline-block !important;position: relative;}#sk-container-id-1 div.sk-text-repr-fallback {display: none;}</style><div id=\"sk-container-id-1\" class=\"sk-top-container\"><div class=\"sk-text-repr-fallback\"><pre>GridSearchCV(cv=5, estimator=RandomForestClassifier(random_state=42), n_jobs=-1,\n",
       "             param_grid={&#x27;max_depth&#x27;: [5, 10, 20, None],\n",
       "                         &#x27;n_estimators&#x27;: [100, 200, 300]},\n",
       "             verbose=1)</pre><b>In a Jupyter environment, please rerun this cell to show the HTML representation or trust the notebook. <br />On GitHub, the HTML representation is unable to render, please try loading this page with nbviewer.org.</b></div><div class=\"sk-container\" hidden><div class=\"sk-item sk-dashed-wrapped\"><div class=\"sk-label-container\"><div class=\"sk-label sk-toggleable\"><input class=\"sk-toggleable__control sk-hidden--visually\" id=\"sk-estimator-id-1\" type=\"checkbox\" ><label for=\"sk-estimator-id-1\" class=\"sk-toggleable__label sk-toggleable__label-arrow\">GridSearchCV</label><div class=\"sk-toggleable__content\"><pre>GridSearchCV(cv=5, estimator=RandomForestClassifier(random_state=42), n_jobs=-1,\n",
       "             param_grid={&#x27;max_depth&#x27;: [5, 10, 20, None],\n",
       "                         &#x27;n_estimators&#x27;: [100, 200, 300]},\n",
       "             verbose=1)</pre></div></div></div><div class=\"sk-parallel\"><div class=\"sk-parallel-item\"><div class=\"sk-item\"><div class=\"sk-label-container\"><div class=\"sk-label sk-toggleable\"><input class=\"sk-toggleable__control sk-hidden--visually\" id=\"sk-estimator-id-2\" type=\"checkbox\" ><label for=\"sk-estimator-id-2\" class=\"sk-toggleable__label sk-toggleable__label-arrow\">estimator: RandomForestClassifier</label><div class=\"sk-toggleable__content\"><pre>RandomForestClassifier(random_state=42)</pre></div></div></div><div class=\"sk-serial\"><div class=\"sk-item\"><div class=\"sk-estimator sk-toggleable\"><input class=\"sk-toggleable__control sk-hidden--visually\" id=\"sk-estimator-id-3\" type=\"checkbox\" ><label for=\"sk-estimator-id-3\" class=\"sk-toggleable__label sk-toggleable__label-arrow\">RandomForestClassifier</label><div class=\"sk-toggleable__content\"><pre>RandomForestClassifier(random_state=42)</pre></div></div></div></div></div></div></div></div></div></div>"
      ],
      "text/plain": [
       "GridSearchCV(cv=5, estimator=RandomForestClassifier(random_state=42), n_jobs=-1,\n",
       "             param_grid={'max_depth': [5, 10, 20, None],\n",
       "                         'n_estimators': [100, 200, 300]},\n",
       "             verbose=1)"
      ]
     },
     "execution_count": 9,
     "metadata": {},
     "output_type": "execute_result"
    }
   ],
   "source": [
    "grid_search = GridSearchCV(rf, params, cv=5, n_jobs=-1, verbose=1)\n",
    "grid_search.fit(X_train, y_train)"
   ]
  },
  {
   "cell_type": "code",
   "execution_count": 10,
   "id": "b1f6f1db",
   "metadata": {},
   "outputs": [
    {
     "name": "stdout",
     "output_type": "stream",
     "text": [
      "Best parameters: {'max_depth': None, 'n_estimators': 300}\n"
     ]
    }
   ],
   "source": [
    "rf_best = grid_search.best_estimator_\n",
    "print('Best parameters:', grid_search.best_params_)\n"
   ]
  },
  {
   "cell_type": "code",
   "execution_count": 11,
   "id": "f0d056a9",
   "metadata": {},
   "outputs": [
    {
     "name": "stdout",
     "output_type": "stream",
     "text": [
      "Accuracy: 0.9045813586097946\n"
     ]
    }
   ],
   "source": [
    "# Evaluate the model\n",
    "y_pred = rf_best.predict(X_test)\n",
    "acc = accuracy_score(y_test, y_pred)\n",
    "print('Accuracy:', acc)"
   ]
  },
  {
   "cell_type": "code",
   "execution_count": 12,
   "id": "8d604ad1",
   "metadata": {},
   "outputs": [
    {
     "name": "stdout",
     "output_type": "stream",
     "text": [
      "Confusion matrix:\n",
      " [[5432  167]\n",
      " [ 437  294]]\n"
     ]
    }
   ],
   "source": [
    "cm = confusion_matrix(y_test, y_pred)\n",
    "print('Confusion matrix:\\n', cm)\n"
   ]
  },
  {
   "cell_type": "code",
   "execution_count": 13,
   "id": "6f185bae",
   "metadata": {},
   "outputs": [],
   "source": [
    "# Predict on new data\n",
    "test_data.drop(['ID'], axis=1, inplace=True)\n",
    "test_data = pd.get_dummies(test_data, drop_first=True)\n",
    "test_data[num_cols] = scaler.transform(test_data[num_cols])\n",
    "test_pred = rf_best.predict(test_data)\n",
    "test_pred = pd.DataFrame(test_pred, columns=['subscribed'])\n",
    "test_pred.to_csv('termdeposit_predictions.csv', index=False)\n"
   ]
  },
  {
   "cell_type": "code",
   "execution_count": 14,
   "id": "3d38ab7e",
   "metadata": {},
   "outputs": [],
   "source": [
    "import pandas as pd\n",
    "import numpy as np\n",
    "import matplotlib.pyplot as plt\n",
    "import seaborn as sns\n",
    "from sklearn.preprocessing import LabelEncoder\n",
    "from sklearn.model_selection import train_test_split, GridSearchCV\n",
    "from sklearn.tree import DecisionTreeClassifier\n",
    "from sklearn.ensemble import RandomForestClassifier\n",
    "from sklearn.metrics import accuracy_score, confusion_matrix, classification_report"
   ]
  },
  {
   "cell_type": "code",
   "execution_count": 15,
   "id": "7c516b89",
   "metadata": {},
   "outputs": [],
   "source": [
    "# Load the dataset\n",
    "train_data = pd.read_csv('https://raw.githubusercontent.com/dsrscientist/dataset5/main/termdeposit_train.csv')\n"
   ]
  },
  {
   "cell_type": "code",
   "execution_count": 16,
   "id": "bcf00e68",
   "metadata": {},
   "outputs": [
    {
     "name": "stdout",
     "output_type": "stream",
     "text": [
      "      ID  age         job   marital  education default  balance housing loan  \\\n",
      "0  26110   56      admin.   married    unknown      no     1933      no   no   \n",
      "1  40576   31     unknown   married  secondary      no        3      no   no   \n",
      "2  15320   27    services   married  secondary      no      891     yes   no   \n",
      "3  43962   57  management  divorced   tertiary      no     3287      no   no   \n",
      "4  29842   31  technician   married  secondary      no      119     yes   no   \n",
      "\n",
      "     contact  day month  duration  campaign  pdays  previous poutcome  \\\n",
      "0  telephone   19   nov        44         2     -1         0  unknown   \n",
      "1   cellular   20   jul        91         2     -1         0  unknown   \n",
      "2   cellular   18   jul       240         1     -1         0  unknown   \n",
      "3   cellular   22   jun       867         1     84         3  success   \n",
      "4   cellular    4   feb       380         1     -1         0  unknown   \n",
      "\n",
      "  subscribed  \n",
      "0         no  \n",
      "1         no  \n",
      "2         no  \n",
      "3        yes  \n",
      "4         no  \n"
     ]
    }
   ],
   "source": [
    "# Exploratory data analysis\n",
    "print(train_data.head())\n"
   ]
  },
  {
   "cell_type": "code",
   "execution_count": 17,
   "id": "63f23645",
   "metadata": {},
   "outputs": [
    {
     "name": "stdout",
     "output_type": "stream",
     "text": [
      "ID            0\n",
      "age           0\n",
      "job           0\n",
      "marital       0\n",
      "education     0\n",
      "default       0\n",
      "balance       0\n",
      "housing       0\n",
      "loan          0\n",
      "contact       0\n",
      "day           0\n",
      "month         0\n",
      "duration      0\n",
      "campaign      0\n",
      "pdays         0\n",
      "previous      0\n",
      "poutcome      0\n",
      "subscribed    0\n",
      "dtype: int64\n"
     ]
    }
   ],
   "source": [
    "# Check for missing values\n",
    "print(train_data.isnull().sum())\n"
   ]
  },
  {
   "cell_type": "code",
   "execution_count": 18,
   "id": "b4c5cdc1",
   "metadata": {},
   "outputs": [],
   "source": [
    "# Encode categorical features\n",
    "le = LabelEncoder()\n",
    "train_data['job'] = le.fit_transform(train_data['job'])\n",
    "train_data['marital'] = le.fit_transform(train_data['marital'])\n",
    "train_data['education'] = le.fit_transform(train_data['education'])\n",
    "train_data['default'] = le.fit_transform(train_data['default'])\n",
    "train_data['housing'] = le.fit_transform(train_data['housing'])\n",
    "train_data['loan'] = le.fit_transform(train_data['loan'])\n",
    "train_data['contact'] = le.fit_transform(train_data['contact'])\n",
    "train_data['month'] = le.fit_transform(train_data['month'])\n",
    "train_data['poutcome'] = le.fit_transform(train_data['poutcome'])\n"
   ]
  },
  {
   "cell_type": "code",
   "execution_count": 19,
   "id": "0896814a",
   "metadata": {},
   "outputs": [],
   "source": [
    "# Split data into features and target\n",
    "X = train_data.drop(['ID', 'subscribed'], axis=1)\n",
    "y = train_data['subscribed']"
   ]
  },
  {
   "cell_type": "code",
   "execution_count": 20,
   "id": "7ad7036e",
   "metadata": {},
   "outputs": [],
   "source": [
    "# Split data into training and testing sets\n",
    "X_train, X_test, y_train, y_test = train_test_split(X, y, test_size=0.2, random_state=42)\n"
   ]
  },
  {
   "cell_type": "code",
   "execution_count": 21,
   "id": "6adbafd0",
   "metadata": {},
   "outputs": [
    {
     "name": "stdout",
     "output_type": "stream",
     "text": [
      "Best parameters for decision tree: {'max_depth': 7}\n"
     ]
    }
   ],
   "source": [
    "# Train a decision tree classifier\n",
    "dt_classifier = DecisionTreeClassifier(random_state=42)\n",
    "dt_params = {'max_depth': [3, 5, 7, 9]}\n",
    "dt_grid = GridSearchCV(dt_classifier, dt_params, cv=5)\n",
    "dt_grid.fit(X_train, y_train)\n",
    "print(\"Best parameters for decision tree:\", dt_grid.best_params_)\n"
   ]
  },
  {
   "cell_type": "code",
   "execution_count": 22,
   "id": "ca690fc2",
   "metadata": {},
   "outputs": [
    {
     "name": "stdout",
     "output_type": "stream",
     "text": [
      "Best parameters for random forest: {'max_depth': 7, 'n_estimators': 200}\n"
     ]
    }
   ],
   "source": [
    "# Train a random forest classifier\n",
    "rf_classifier = RandomForestClassifier(random_state=42)\n",
    "rf_params = {'n_estimators': [100, 200, 300], 'max_depth': [3, 5, 7]}\n",
    "rf_grid = GridSearchCV(rf_classifier, rf_params, cv=5)\n",
    "rf_grid.fit(X_train, y_train)\n",
    "print(\"Best parameters for random forest:\", rf_grid.best_params_)\n"
   ]
  },
  {
   "cell_type": "code",
   "execution_count": 23,
   "id": "2e750953",
   "metadata": {},
   "outputs": [
    {
     "name": "stdout",
     "output_type": "stream",
     "text": [
      "Decision tree classifier accuracy: 0.9007898894154819\n",
      "Decision tree classifier confusion matrix:\n",
      " [[5392  207]\n",
      " [ 421  310]]\n",
      "Decision tree classifier classification report:\n",
      "               precision    recall  f1-score   support\n",
      "\n",
      "          no       0.93      0.96      0.94      5599\n",
      "         yes       0.60      0.42      0.50       731\n",
      "\n",
      "    accuracy                           0.90      6330\n",
      "   macro avg       0.76      0.69      0.72      6330\n",
      "weighted avg       0.89      0.90      0.89      6330\n",
      "\n"
     ]
    }
   ],
   "source": [
    "# Evaluate the models on the testing set\n",
    "y_pred_dt = dt_grid.predict(X_test)\n",
    "print(\"Decision tree classifier accuracy:\", accuracy_score(y_test, y_pred_dt))\n",
    "print(\"Decision tree classifier confusion matrix:\\n\", confusion_matrix(y_test, y_pred_dt))\n",
    "print(\"Decision tree classifier classification report:\\n\", classification_report(y_test, y_pred_dt))\n"
   ]
  },
  {
   "cell_type": "code",
   "execution_count": 24,
   "id": "b86b58f8",
   "metadata": {},
   "outputs": [
    {
     "name": "stdout",
     "output_type": "stream",
     "text": [
      "Random forest classifier accuracy: 0.9012638230647709\n",
      "Random forest classifier confusion matrix:\n",
      " [[5531   68]\n",
      " [ 557  174]]\n",
      "Random forest classifier classification report:\n",
      "               precision    recall  f1-score   support\n",
      "\n",
      "          no       0.91      0.99      0.95      5599\n",
      "         yes       0.72      0.24      0.36       731\n",
      "\n",
      "    accuracy                           0.90      6330\n",
      "   macro avg       0.81      0.61      0.65      6330\n",
      "weighted avg       0.89      0.90      0.88      6330\n",
      "\n"
     ]
    }
   ],
   "source": [
    "y_pred_rf = rf_grid.predict(X_test)\n",
    "print(\"Random forest classifier accuracy:\", accuracy_score(y_test, y_pred_rf))\n",
    "print(\"Random forest classifier confusion matrix:\\n\", confusion_matrix(y_test, y_pred_rf))\n",
    "print(\"Random forest classifier classification report:\\n\", classification_report(y_test, y_pred_rf))\n"
   ]
  }
 ],
 "metadata": {
  "kernelspec": {
   "display_name": "Python 3 (ipykernel)",
   "language": "python",
   "name": "python3"
  },
  "language_info": {
   "codemirror_mode": {
    "name": "ipython",
    "version": 3
   },
   "file_extension": ".py",
   "mimetype": "text/x-python",
   "name": "python",
   "nbconvert_exporter": "python",
   "pygments_lexer": "ipython3",
   "version": "3.10.9"
  }
 },
 "nbformat": 4,
 "nbformat_minor": 5
}
