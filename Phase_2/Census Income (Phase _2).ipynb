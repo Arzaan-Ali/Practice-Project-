{
 "cells": [
  {
   "cell_type": "code",
   "execution_count": 1,
   "id": "e90ab1ae",
   "metadata": {},
   "outputs": [],
   "source": [
    "import pandas as pd\n",
    "\n"
   ]
  },
  {
   "cell_type": "code",
   "execution_count": 2,
   "id": "5d3f15b8",
   "metadata": {},
   "outputs": [],
   "source": [
    "# Load the dataset\n",
    "dataset_url = \"https://raw.githubusercontent.com/dsrscientist/dataset1/master/census_income.csv\"\n",
    "df = pd.read_csv(dataset_url)\n"
   ]
  },
  {
   "cell_type": "code",
   "execution_count": 3,
   "id": "c8f0f2ed",
   "metadata": {},
   "outputs": [
    {
     "name": "stdout",
     "output_type": "stream",
     "text": [
      "   Age          Workclass  Fnlwgt   Education  Education_num  \\\n",
      "0   50   Self-emp-not-inc   83311   Bachelors             13   \n",
      "1   38            Private  215646     HS-grad              9   \n",
      "2   53            Private  234721        11th              7   \n",
      "3   28            Private  338409   Bachelors             13   \n",
      "4   37            Private  284582     Masters             14   \n",
      "\n",
      "        Marital_status          Occupation    Relationship    Race      Sex  \\\n",
      "0   Married-civ-spouse     Exec-managerial         Husband   White     Male   \n",
      "1             Divorced   Handlers-cleaners   Not-in-family   White     Male   \n",
      "2   Married-civ-spouse   Handlers-cleaners         Husband   Black     Male   \n",
      "3   Married-civ-spouse      Prof-specialty            Wife   Black   Female   \n",
      "4   Married-civ-spouse     Exec-managerial            Wife   White   Female   \n",
      "\n",
      "   Capital_gain  Capital_loss  Hours_per_week  Native_country  Income  \n",
      "0             0             0              13   United-States   <=50K  \n",
      "1             0             0              40   United-States   <=50K  \n",
      "2             0             0              40   United-States   <=50K  \n",
      "3             0             0              40            Cuba   <=50K  \n",
      "4             0             0              40   United-States   <=50K  \n"
     ]
    }
   ],
   "source": [
    "# Display the first few rows of the dataset\n",
    "print(df.head())\n"
   ]
  },
  {
   "cell_type": "code",
   "execution_count": 4,
   "id": "517d1ddf",
   "metadata": {},
   "outputs": [
    {
     "name": "stdout",
     "output_type": "stream",
     "text": [
      "Dataset shape: (32560, 15)\n"
     ]
    }
   ],
   "source": [
    "# Check the dimensions of the dataset\n",
    "print(\"Dataset shape:\", df.shape)\n"
   ]
  },
  {
   "cell_type": "code",
   "execution_count": 5,
   "id": "da72b379",
   "metadata": {},
   "outputs": [
    {
     "name": "stdout",
     "output_type": "stream",
     "text": [
      "Column names: Index(['Age', 'Workclass', 'Fnlwgt', 'Education', 'Education_num',\n",
      "       'Marital_status', 'Occupation', 'Relationship', 'Race', 'Sex',\n",
      "       'Capital_gain', 'Capital_loss', 'Hours_per_week', 'Native_country',\n",
      "       'Income'],\n",
      "      dtype='object')\n"
     ]
    }
   ],
   "source": [
    "# Check the column names\n",
    "print(\"Column names:\", df.columns)\n"
   ]
  },
  {
   "cell_type": "code",
   "execution_count": 6,
   "id": "79a7f199",
   "metadata": {},
   "outputs": [
    {
     "name": "stdout",
     "output_type": "stream",
     "text": [
      "                Age        Fnlwgt  Education_num  Capital_gain  Capital_loss  \\\n",
      "count  32560.000000  3.256000e+04   32560.000000  32560.000000  32560.000000   \n",
      "mean      38.581634  1.897818e+05      10.080590   1077.615172     87.306511   \n",
      "std       13.640642  1.055498e+05       2.572709   7385.402999    402.966116   \n",
      "min       17.000000  1.228500e+04       1.000000      0.000000      0.000000   \n",
      "25%       28.000000  1.178315e+05       9.000000      0.000000      0.000000   \n",
      "50%       37.000000  1.783630e+05      10.000000      0.000000      0.000000   \n",
      "75%       48.000000  2.370545e+05      12.000000      0.000000      0.000000   \n",
      "max       90.000000  1.484705e+06      16.000000  99999.000000   4356.000000   \n",
      "\n",
      "       Hours_per_week  \n",
      "count    32560.000000  \n",
      "mean        40.437469  \n",
      "std         12.347618  \n",
      "min          1.000000  \n",
      "25%         40.000000  \n",
      "50%         40.000000  \n",
      "75%         45.000000  \n",
      "max         99.000000  \n"
     ]
    }
   ],
   "source": [
    "# Check summary statistics of numeric columns\n",
    "print(df.describe())\n"
   ]
  },
  {
   "cell_type": "code",
   "execution_count": 7,
   "id": "550995ad",
   "metadata": {},
   "outputs": [
    {
     "name": "stdout",
     "output_type": "stream",
     "text": [
      "Age                int64\n",
      "Workclass         object\n",
      "Fnlwgt             int64\n",
      "Education         object\n",
      "Education_num      int64\n",
      "Marital_status    object\n",
      "Occupation        object\n",
      "Relationship      object\n",
      "Race              object\n",
      "Sex               object\n",
      "Capital_gain       int64\n",
      "Capital_loss       int64\n",
      "Hours_per_week     int64\n",
      "Native_country    object\n",
      "Income            object\n",
      "dtype: object\n"
     ]
    }
   ],
   "source": [
    "# Check the data types of columns\n",
    "print(df.dtypes)\n"
   ]
  },
  {
   "cell_type": "code",
   "execution_count": 8,
   "id": "b525953b",
   "metadata": {
    "scrolled": true
   },
   "outputs": [],
   "source": [
    "import pandas as pd\n",
    "import matplotlib.pyplot as plt\n",
    "\n"
   ]
  },
  {
   "cell_type": "code",
   "execution_count": 9,
   "id": "3b593d2f",
   "metadata": {},
   "outputs": [],
   "source": [
    "# Load the dataset\n",
    "dataset_url = \"https://raw.githubusercontent.com/dsrscientist/dataset1/master/census_income.csv\"\n",
    "df = pd.read_csv(dataset_url)\n"
   ]
  },
  {
   "cell_type": "code",
   "execution_count": 10,
   "id": "9b26b828",
   "metadata": {},
   "outputs": [],
   "source": [
    "# Count the occurrences of each income category\n",
    "income_counts = df['Income'].value_counts()\n"
   ]
  },
  {
   "cell_type": "code",
   "execution_count": 11,
   "id": "f0b2a6fe",
   "metadata": {},
   "outputs": [
    {
     "data": {
      "image/png": "[encoded data removed]",
      "text/plain": [
       "<Figure size 800x600 with 1 Axes>"
      ]
     },
     "metadata": {},
     "output_type": "display_data"
    }
   ],
   "source": [
    "# Create a bar plot\n",
    "plt.figure(figsize=(8, 6))\n",
    "income_counts.plot(kind='bar')\n",
    "plt.title('Income Distribution')\n",
    "plt.xlabel('Income')\n",
    "plt.ylabel('Count')\n",
    "plt.xticks(rotation=0)\n",
    "plt.tight_layout()\n"
   ]
  },
  {
   "cell_type": "code",
   "execution_count": 12,
   "id": "70e43395",
   "metadata": {},
   "outputs": [],
   "source": [
    "# Display the plot\n",
    "plt.show()\n"
   ]
  }
 ],
 "metadata": {
  "kernelspec": {
   "display_name": "Python 3 (ipykernel)",
   "language": "python",
   "name": "python3"
  },
  "language_info": {
   "codemirror_mode": {
    "name": "ipython",
    "version": 3
   },
   "file_extension": ".py",
   "mimetype": "text/x-python",
   "name": "python",
   "nbconvert_exporter": "python",
   "pygments_lexer": "ipython3",
   "version": "3.10.9"
  }
 },
 "nbformat": 4,
 "nbformat_minor": 5
}
